{
 "cells": [
  {
   "cell_type": "markdown",
   "metadata": {},
   "source": [
    "\n",
    "# SAR pre-processing demonstration MULTIPLY Platform (entire scene)"
   ]
  },
  {
   "cell_type": "markdown",
   "metadata": {
    "collapsed": true
   },
   "source": [
    "Import of MULTIPLY python packages"
   ]
  },
  {
   "cell_type": "code",
   "execution_count": 3,
   "metadata": {
    "collapsed": true,
    "scrolled": false
   },
   "outputs": [],
   "source": [
    "from file_list_sar_pre_processing import SARList\n",
    "from sar_pre_processor import SARPreProcessor_entire\n",
    "from datetime import datetime"
   ]
  },
  {
   "cell_type": "markdown",
   "metadata": {
    "collapsed": true
   },
   "source": [
    "Get filelist with names for all scenes that should be processed"
   ]
  },
  {
   "cell_type": "code",
   "execution_count": 4,
   "metadata": {},
   "outputs": [
    {
     "name": "stdout",
     "output_type": "stream",
     "text": [
      "year not specified\n",
      "Number of found files containing area of interest: 3\n",
      "Number of found files that were double processed: 0.0\n",
      "Number of files that will be processed: 3\n"
     ]
    }
   ],
   "source": [
    "filelist = SARList(config='sample_config_file.yml').create_list()"
   ]
  },
  {
   "cell_type": "markdown",
   "metadata": {},
   "source": [
    "Start pre-processing"
   ]
  },
  {
   "cell_type": "code",
   "execution_count": null,
   "metadata": {},
   "outputs": [
    {
     "name": "stdout",
     "output_type": "stream",
     "text": [
      "2018-02-06 13:32:14.040004\n",
      "Start Process Step 1\n",
      "Scene 1 of 3\n",
      "Process  S1A_IW_SLC__1SDV_20160503T052553_20160503T052620_011090_010B55_EE11.zip  with SNAP.\n",
      "normalisaton angle not specified, default value of 35 is used for processing\n",
      "2018-02-06 13:34:22.195445\n",
      "Scene 2 of 3\n",
      "Process  S1A_IW_SLC__1SDV_20160506T165854_20160506T165921_011141_010CDF_EB2F.zip  with SNAP.\n",
      "normalisaton angle not specified, default value of 35 is used for processing\n",
      "2018-02-06 13:36:53.659831\n",
      "Scene 3 of 3\n",
      "Process  S1A_IW_SLC__1SDV_20160515T052602_20160515T052629_011265_0110E3_8ECB.zip  with SNAP.\n",
      "normalisaton angle not specified, default value of 35 is used for processing\n",
      "2018-02-06 13:38:30.015569\n",
      "Start Process Step 2\n",
      "Scene 1 of 3\n",
      "Process  S1A_IW_SLC__1SDV_20160503T052553_20160503T052620_011090_010B55_EE11_GC_RC_No_Su.dim  with SNAP.\n"
     ]
    }
   ],
   "source": [
    "S = SARPreProcessor_entire(config='sample_config_file.yml', filelist=filelist)\n",
    "print(datetime.now())\n",
    "print('Start Process Step 1')\n",
    "S.pre_process_step1()\n",
    "\n",
    "print('Start Process Step 2')\n",
    "S.pre_process_step2()\n",
    "\n",
    "print('Start Process Step 3')\n",
    "S.pre_process_step3()"
   ]
  },
  {
   "cell_type": "code",
   "execution_count": null,
   "metadata": {
    "collapsed": true
   },
   "outputs": [],
   "source": []
  }
 ],
 "metadata": {
  "kernelspec": {
   "display_name": "Python 3",
   "language": "python",
   "name": "python3"
  },
  "language_info": {
   "codemirror_mode": {
    "name": "ipython",
    "version": 3
   },
   "file_extension": ".py",
   "mimetype": "text/x-python",
   "name": "python",
   "nbconvert_exporter": "python",
   "pygments_lexer": "ipython3",
   "version": "3.6.3"
  }
 },
 "nbformat": 4,
 "nbformat_minor": 2
}
